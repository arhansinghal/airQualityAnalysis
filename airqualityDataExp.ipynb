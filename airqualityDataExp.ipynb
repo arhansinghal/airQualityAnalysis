{
  "nbformat": 4,
  "nbformat_minor": 0,
  "metadata": {
    "colab": {
      "provenance": []
    },
    "kernelspec": {
      "name": "python3",
      "display_name": "Python 3"
    }
  },
  "cells": [
    {
      "cell_type": "code",
      "metadata": {
        "id": "cy1hhsRGeK5e"
      },
      "source": [
        "import datetime as dt"
      ],
      "execution_count": null,
      "outputs": []
    },
    {
      "cell_type": "code",
      "metadata": {
        "id": "sU2k0cZvef-E",
        "colab": {
          "base_uri": "https://localhost:8080/"
        },
        "outputId": "cc32c00d-5d55-48cc-baa3-258a3d0a0b70"
      },
      "source": [
        "d1 = dt.datetime.now()\n",
        "print(d1)"
      ],
      "execution_count": null,
      "outputs": [
        {
          "output_type": "stream",
          "text": [
            "2021-02-11 11:00:40.362977\n"
          ],
          "name": "stdout"
        }
      ]
    },
    {
      "cell_type": "code",
      "metadata": {
        "id": "G4UMyvi2ChHG",
        "colab": {
          "base_uri": "https://localhost:8080/"
        },
        "outputId": "68875295-7464-4e32-c2eb-3e733392417d"
      },
      "source": [
        "print(d1.day, d1.month,d1.year, d1.hour, d1.minute,d1.second)"
      ],
      "execution_count": null,
      "outputs": [
        {
          "output_type": "stream",
          "text": [
            "11 2 2021 11 0 40\n"
          ],
          "name": "stdout"
        }
      ]
    },
    {
      "cell_type": "markdown",
      "metadata": {
        "id": "BPTB8NLyoa10"
      },
      "source": [
        "---"
      ]
    },
    {
      "cell_type": "code",
      "metadata": {
        "id": "P4Lb_KE3ekQ6",
        "colab": {
          "base_uri": "https://localhost:8080/"
        },
        "outputId": "aad68064-d032-470d-a466-c44ac3d0d96c"
      },
      "source": [
        "d2 = d1 + dt.timedelta(hours = 5, minutes = 30)\n",
        "print(d2)"
      ],
      "execution_count": null,
      "outputs": [
        {
          "output_type": "stream",
          "text": [
            "2021-02-11 16:30:40.362977\n"
          ],
          "name": "stdout"
        }
      ]
    },
    {
      "cell_type": "code",
      "metadata": {
        "id": "f8MbNKBb0rlP",
        "colab": {
          "base_uri": "https://localhost:8080/"
        },
        "outputId": "c07364f8-9d6f-4f69-9318-060fc3a42f7a"
      },
      "source": [
        "d3 = d1 - dt.timedelta(hours = 7)\n",
        "print(d3)"
      ],
      "execution_count": null,
      "outputs": [
        {
          "output_type": "stream",
          "text": [
            "2021-02-11 04:00:40.362977\n"
          ],
          "name": "stdout"
        }
      ]
    },
    {
      "cell_type": "markdown",
      "metadata": {
        "id": "aWXeBNLgoTfs"
      },
      "source": [
        "---"
      ]
    },
    {
      "cell_type": "code",
      "metadata": {
        "id": "8Xld_wlHepeZ",
        "colab": {
          "base_uri": "https://localhost:8080/",
          "height": 35
        },
        "outputId": "73ccaf1c-49b4-40b9-defc-ea64d6ab3e65"
      },
      "source": [
        "s1 = d2.strftime('%B %d, %Y %I : %M : %S %p')\n",
        "s1"
      ],
      "execution_count": null,
      "outputs": [
        {
          "output_type": "execute_result",
          "data": {
            "application/vnd.google.colaboratory.intrinsic+json": {
              "type": "string"
            },
            "text/plain": [
              "'February 11, 2021 04 : 30 : 40 PM'"
            ]
          },
          "metadata": {
            "tags": []
          },
          "execution_count": 67
        }
      ]
    },
    {
      "cell_type": "code",
      "metadata": {
        "id": "-vpWl0_UetJR",
        "colab": {
          "base_uri": "https://localhost:8080/"
        },
        "outputId": "f87189fd-0b6b-4cf9-b358-97a429ef5411"
      },
      "source": [
        "d5 = d2.date().strftime('%d %b %Y')\n",
        "d6 = d2.time().strftime('%I:%M:%S %p')\n",
        "print(d5 , d6)"
      ],
      "execution_count": null,
      "outputs": [
        {
          "output_type": "stream",
          "text": [
            "11 Feb 2021 04:30:40 PM\n"
          ],
          "name": "stdout"
        }
      ]
    },
    {
      "cell_type": "markdown",
      "metadata": {
        "id": "6Vhb0qIWuEom"
      },
      "source": [
        "---"
      ]
    },
    {
      "cell_type": "code",
      "metadata": {
        "id": "R8WBV8g9eyhe",
        "colab": {
          "base_uri": "https://localhost:8080/"
        },
        "outputId": "eeaa3111-cbc8-43ab-a85b-171a0e7d2deb"
      },
      "source": [
        "d7 = dt.datetime.strptime('December 26, 2019 03:34:00 AM', \"%B %d, %Y %I:%M:%S %p\")\n",
        "print(d7, type(d7))"
      ],
      "execution_count": null,
      "outputs": [
        {
          "output_type": "stream",
          "text": [
            "2019-12-26 03:34:00 <class 'datetime.datetime'>\n"
          ],
          "name": "stdout"
        }
      ]
    },
    {
      "cell_type": "code",
      "metadata": {
        "id": "mpqm8sa7HFwh",
        "colab": {
          "base_uri": "https://localhost:8080/"
        },
        "outputId": "4f3cc636-9a06-48fe-e8c6-dca82ea61988"
      },
      "source": [
        "nxt = d7 + dt.timedelta(days=6585.3)\n",
        "print(nxt)"
      ],
      "execution_count": null,
      "outputs": [
        {
          "output_type": "stream",
          "text": [
            "2038-01-05 10:46:00\n"
          ],
          "name": "stdout"
        }
      ]
    },
    {
      "cell_type": "markdown",
      "metadata": {
        "id": "8OsxsPr5yWPk"
      },
      "source": [
        "Last annular solar eclipse will repeat again on 5 January 2038 at about 10:47 AM. You can verify it by opening the document provided below and jumping to page number A-480.\n",
        "\n",
        "[List of Solar Eclipses](https://eclipse.gsfc.nasa.gov/5MCSE/5MCSE-Maps-10.pdf)\n",
        "\n",
        "\n",
        "<img src='https://student-datasets-bucket.s3.ap-south-1.amazonaws.com/images/next_annular_solar_eclipse2038.png' width=800>"
      ]
    },
    {
      "cell_type": "markdown",
      "metadata": {
        "id": "xsKQ8ZA13ICF"
      },
      "source": [
        "We can create separate `datetime.date` and `datetime.time` objects by passing values to the `date()` and `time()` functions."
      ]
    },
    {
      "cell_type": "code",
      "metadata": {
        "id": "Cv4qW53bJ9Vy",
        "colab": {
          "base_uri": "https://localhost:8080/"
        },
        "outputId": "30789782-e907-4cad-c23c-4f60744f0767"
      },
      "source": [
        "bd = dt.date(2005, 5, 2)\n",
        "print(bd)"
      ],
      "execution_count": null,
      "outputs": [
        {
          "output_type": "stream",
          "text": [
            "2005-05-02\n"
          ],
          "name": "stdout"
        }
      ]
    },
    {
      "cell_type": "code",
      "metadata": {
        "id": "dOck1OebKK_J",
        "colab": {
          "base_uri": "https://localhost:8080/"
        },
        "outputId": "3447d248-7522-41ae-8fbe-ee17a9d5e735"
      },
      "source": [
        "bd1 = dt.time(14, 5, 3)\n",
        "print(bd1)"
      ],
      "execution_count": null,
      "outputs": [
        {
          "output_type": "stream",
          "text": [
            "14:05:03\n"
          ],
          "name": "stdout"
        }
      ]
    },
    {
      "cell_type": "markdown",
      "metadata": {
        "id": "uFNSA3NGfKYL"
      },
      "source": [
        "---"
      ]
    },
    {
      "cell_type": "markdown",
      "metadata": {
        "id": "RbKE24jFAYgj"
      },
      "source": [
        "#### Activity 7: Continuing Air Quality Analysis\n",
        "\n",
        "Let's continue with the air quality analysis. We need to load the dataset, remove the `Unnamed: 15` & `Unnamed: 16` columns and drop the null values.\n",
        "\n",
        "Also, in the previous class, we created a new Pandas series containing the concatenated date and time values."
      ]
    },
    {
      "cell_type": "code",
      "metadata": {
        "id": "xczoNMbpBb8l",
        "colab": {
          "base_uri": "https://localhost:8080/"
        },
        "outputId": "387c0307-01fc-40a5-9ace-1042093c2d24"
      },
      "source": [
        "import numpy as np\n",
        "import pandas as pd\n",
        "import matplotlib.pyplot as plt\n",
        "import seaborn as sns\n",
        "\n",
        "csv_file = 'https://student-datasets-bucket.s3.ap-south-1.amazonaws.com/whitehat-ds-datasets/air-quality/AirQualityUCI.csv'\n",
        "df = pd.read_csv(csv_file, sep=';')\n",
        "\n",
        "df = df.drop(columns=['Unnamed: 15', 'Unnamed: 16'], axis=1)\n",
        "df = df.dropna()\n",
        "dt_series = df['Date'] + ' ' + pd.Series(data=[str(item).replace(\".\", \":\") for item in df['Time']], index=df.index)\n",
        "dt_series = pd.to_datetime(dt_series)\n",
        "dt_series"
      ],
      "execution_count": null,
      "outputs": [
        {
          "output_type": "execute_result",
          "data": {
            "text/plain": [
              "0      2004-10-03 18:00:00\n",
              "1      2004-10-03 19:00:00\n",
              "2      2004-10-03 20:00:00\n",
              "3      2004-10-03 21:00:00\n",
              "4      2004-10-03 22:00:00\n",
              "               ...        \n",
              "9352   2005-04-04 10:00:00\n",
              "9353   2005-04-04 11:00:00\n",
              "9354   2005-04-04 12:00:00\n",
              "9355   2005-04-04 13:00:00\n",
              "9356   2005-04-04 14:00:00\n",
              "Length: 9357, dtype: datetime64[ns]"
            ]
          },
          "metadata": {
            "tags": []
          },
          "execution_count": 73
        }
      ]
    },
    {
      "cell_type": "markdown",
      "metadata": {
        "id": "6sCS3wC6FfTh"
      },
      "source": [
        "Let's remove the `Date` & `Time` columns from the DataFrame because we don't need them and insert the `dt_series` in it because it contains the `datetime` objects."
      ]
    },
    {
      "cell_type": "code",
      "metadata": {
        "id": "0GALRL4-F6PX",
        "colab": {
          "base_uri": "https://localhost:8080/",
          "height": 200
        },
        "outputId": "8d77803d-38a8-4be5-cb3a-45f6a72838ba"
      },
      "source": [
        "df.head()"
      ],
      "execution_count": null,
      "outputs": [
        {
          "output_type": "execute_result",
          "data": {
            "text/html": [
              "<div>\n",
              "<style scoped>\n",
              "    .dataframe tbody tr th:only-of-type {\n",
              "        vertical-align: middle;\n",
              "    }\n",
              "\n",
              "    .dataframe tbody tr th {\n",
              "        vertical-align: top;\n",
              "    }\n",
              "\n",
              "    .dataframe thead th {\n",
              "        text-align: right;\n",
              "    }\n",
              "</style>\n",
              "<table border=\"1\" class=\"dataframe\">\n",
              "  <thead>\n",
              "    <tr style=\"text-align: right;\">\n",
              "      <th></th>\n",
              "      <th>Date</th>\n",
              "      <th>Time</th>\n",
              "      <th>CO(GT)</th>\n",
              "      <th>PT08.S1(CO)</th>\n",
              "      <th>NMHC(GT)</th>\n",
              "      <th>C6H6(GT)</th>\n",
              "      <th>PT08.S2(NMHC)</th>\n",
              "      <th>NOx(GT)</th>\n",
              "      <th>PT08.S3(NOx)</th>\n",
              "      <th>NO2(GT)</th>\n",
              "      <th>PT08.S4(NO2)</th>\n",
              "      <th>PT08.S5(O3)</th>\n",
              "      <th>T</th>\n",
              "      <th>RH</th>\n",
              "      <th>AH</th>\n",
              "    </tr>\n",
              "  </thead>\n",
              "  <tbody>\n",
              "    <tr>\n",
              "      <th>0</th>\n",
              "      <td>10/03/2004</td>\n",
              "      <td>18.00.00</td>\n",
              "      <td>2,6</td>\n",
              "      <td>1360.0</td>\n",
              "      <td>150.0</td>\n",
              "      <td>11,9</td>\n",
              "      <td>1046.0</td>\n",
              "      <td>166.0</td>\n",
              "      <td>1056.0</td>\n",
              "      <td>113.0</td>\n",
              "      <td>1692.0</td>\n",
              "      <td>1268.0</td>\n",
              "      <td>13,6</td>\n",
              "      <td>48,9</td>\n",
              "      <td>0,7578</td>\n",
              "    </tr>\n",
              "    <tr>\n",
              "      <th>1</th>\n",
              "      <td>10/03/2004</td>\n",
              "      <td>19.00.00</td>\n",
              "      <td>2</td>\n",
              "      <td>1292.0</td>\n",
              "      <td>112.0</td>\n",
              "      <td>9,4</td>\n",
              "      <td>955.0</td>\n",
              "      <td>103.0</td>\n",
              "      <td>1174.0</td>\n",
              "      <td>92.0</td>\n",
              "      <td>1559.0</td>\n",
              "      <td>972.0</td>\n",
              "      <td>13,3</td>\n",
              "      <td>47,7</td>\n",
              "      <td>0,7255</td>\n",
              "    </tr>\n",
              "    <tr>\n",
              "      <th>2</th>\n",
              "      <td>10/03/2004</td>\n",
              "      <td>20.00.00</td>\n",
              "      <td>2,2</td>\n",
              "      <td>1402.0</td>\n",
              "      <td>88.0</td>\n",
              "      <td>9,0</td>\n",
              "      <td>939.0</td>\n",
              "      <td>131.0</td>\n",
              "      <td>1140.0</td>\n",
              "      <td>114.0</td>\n",
              "      <td>1555.0</td>\n",
              "      <td>1074.0</td>\n",
              "      <td>11,9</td>\n",
              "      <td>54,0</td>\n",
              "      <td>0,7502</td>\n",
              "    </tr>\n",
              "    <tr>\n",
              "      <th>3</th>\n",
              "      <td>10/03/2004</td>\n",
              "      <td>21.00.00</td>\n",
              "      <td>2,2</td>\n",
              "      <td>1376.0</td>\n",
              "      <td>80.0</td>\n",
              "      <td>9,2</td>\n",
              "      <td>948.0</td>\n",
              "      <td>172.0</td>\n",
              "      <td>1092.0</td>\n",
              "      <td>122.0</td>\n",
              "      <td>1584.0</td>\n",
              "      <td>1203.0</td>\n",
              "      <td>11,0</td>\n",
              "      <td>60,0</td>\n",
              "      <td>0,7867</td>\n",
              "    </tr>\n",
              "    <tr>\n",
              "      <th>4</th>\n",
              "      <td>10/03/2004</td>\n",
              "      <td>22.00.00</td>\n",
              "      <td>1,6</td>\n",
              "      <td>1272.0</td>\n",
              "      <td>51.0</td>\n",
              "      <td>6,5</td>\n",
              "      <td>836.0</td>\n",
              "      <td>131.0</td>\n",
              "      <td>1205.0</td>\n",
              "      <td>116.0</td>\n",
              "      <td>1490.0</td>\n",
              "      <td>1110.0</td>\n",
              "      <td>11,2</td>\n",
              "      <td>59,6</td>\n",
              "      <td>0,7888</td>\n",
              "    </tr>\n",
              "  </tbody>\n",
              "</table>\n",
              "</div>"
            ],
            "text/plain": [
              "         Date      Time CO(GT)  PT08.S1(CO)  ...  PT08.S5(O3)     T    RH      AH\n",
              "0  10/03/2004  18.00.00    2,6       1360.0  ...       1268.0  13,6  48,9  0,7578\n",
              "1  10/03/2004  19.00.00      2       1292.0  ...        972.0  13,3  47,7  0,7255\n",
              "2  10/03/2004  20.00.00    2,2       1402.0  ...       1074.0  11,9  54,0  0,7502\n",
              "3  10/03/2004  21.00.00    2,2       1376.0  ...       1203.0  11,0  60,0  0,7867\n",
              "4  10/03/2004  22.00.00    1,6       1272.0  ...       1110.0  11,2  59,6  0,7888\n",
              "\n",
              "[5 rows x 15 columns]"
            ]
          },
          "metadata": {
            "tags": []
          },
          "execution_count": 74
        }
      ]
    },
    {
      "cell_type": "markdown",
      "metadata": {
        "id": "y0UlL7MdGWW4"
      },
      "source": [
        "Let's add the `dt_series` Pandas series to the DataFrame at `index = 0`. Also, let's label it as a `DateTime` column."
      ]
    },
    {
      "cell_type": "code",
      "metadata": {
        "id": "fet1jQCAA1_P"
      },
      "source": [
        "df = df.drop(['Date','Time'],axis = 1)\n",
        "df.insert(loc =0,column = 'DateTime',value = dt_series)\n"
      ],
      "execution_count": null,
      "outputs": []
    },
    {
      "cell_type": "code",
      "metadata": {
        "id": "XQiiv3yEA4fH",
        "colab": {
          "base_uri": "https://localhost:8080/",
          "height": 200
        },
        "outputId": "31971c3f-a337-40c9-d3e3-4157dee3b08c"
      },
      "source": [
        "df.head()"
      ],
      "execution_count": null,
      "outputs": [
        {
          "output_type": "execute_result",
          "data": {
            "text/html": [
              "<div>\n",
              "<style scoped>\n",
              "    .dataframe tbody tr th:only-of-type {\n",
              "        vertical-align: middle;\n",
              "    }\n",
              "\n",
              "    .dataframe tbody tr th {\n",
              "        vertical-align: top;\n",
              "    }\n",
              "\n",
              "    .dataframe thead th {\n",
              "        text-align: right;\n",
              "    }\n",
              "</style>\n",
              "<table border=\"1\" class=\"dataframe\">\n",
              "  <thead>\n",
              "    <tr style=\"text-align: right;\">\n",
              "      <th></th>\n",
              "      <th>DateTime</th>\n",
              "      <th>CO(GT)</th>\n",
              "      <th>PT08.S1(CO)</th>\n",
              "      <th>NMHC(GT)</th>\n",
              "      <th>C6H6(GT)</th>\n",
              "      <th>PT08.S2(NMHC)</th>\n",
              "      <th>NOx(GT)</th>\n",
              "      <th>PT08.S3(NOx)</th>\n",
              "      <th>NO2(GT)</th>\n",
              "      <th>PT08.S4(NO2)</th>\n",
              "      <th>PT08.S5(O3)</th>\n",
              "      <th>T</th>\n",
              "      <th>RH</th>\n",
              "      <th>AH</th>\n",
              "    </tr>\n",
              "  </thead>\n",
              "  <tbody>\n",
              "    <tr>\n",
              "      <th>0</th>\n",
              "      <td>2004-10-03 18:00:00</td>\n",
              "      <td>2,6</td>\n",
              "      <td>1360.0</td>\n",
              "      <td>150.0</td>\n",
              "      <td>11,9</td>\n",
              "      <td>1046.0</td>\n",
              "      <td>166.0</td>\n",
              "      <td>1056.0</td>\n",
              "      <td>113.0</td>\n",
              "      <td>1692.0</td>\n",
              "      <td>1268.0</td>\n",
              "      <td>13,6</td>\n",
              "      <td>48,9</td>\n",
              "      <td>0,7578</td>\n",
              "    </tr>\n",
              "    <tr>\n",
              "      <th>1</th>\n",
              "      <td>2004-10-03 19:00:00</td>\n",
              "      <td>2</td>\n",
              "      <td>1292.0</td>\n",
              "      <td>112.0</td>\n",
              "      <td>9,4</td>\n",
              "      <td>955.0</td>\n",
              "      <td>103.0</td>\n",
              "      <td>1174.0</td>\n",
              "      <td>92.0</td>\n",
              "      <td>1559.0</td>\n",
              "      <td>972.0</td>\n",
              "      <td>13,3</td>\n",
              "      <td>47,7</td>\n",
              "      <td>0,7255</td>\n",
              "    </tr>\n",
              "    <tr>\n",
              "      <th>2</th>\n",
              "      <td>2004-10-03 20:00:00</td>\n",
              "      <td>2,2</td>\n",
              "      <td>1402.0</td>\n",
              "      <td>88.0</td>\n",
              "      <td>9,0</td>\n",
              "      <td>939.0</td>\n",
              "      <td>131.0</td>\n",
              "      <td>1140.0</td>\n",
              "      <td>114.0</td>\n",
              "      <td>1555.0</td>\n",
              "      <td>1074.0</td>\n",
              "      <td>11,9</td>\n",
              "      <td>54,0</td>\n",
              "      <td>0,7502</td>\n",
              "    </tr>\n",
              "    <tr>\n",
              "      <th>3</th>\n",
              "      <td>2004-10-03 21:00:00</td>\n",
              "      <td>2,2</td>\n",
              "      <td>1376.0</td>\n",
              "      <td>80.0</td>\n",
              "      <td>9,2</td>\n",
              "      <td>948.0</td>\n",
              "      <td>172.0</td>\n",
              "      <td>1092.0</td>\n",
              "      <td>122.0</td>\n",
              "      <td>1584.0</td>\n",
              "      <td>1203.0</td>\n",
              "      <td>11,0</td>\n",
              "      <td>60,0</td>\n",
              "      <td>0,7867</td>\n",
              "    </tr>\n",
              "    <tr>\n",
              "      <th>4</th>\n",
              "      <td>2004-10-03 22:00:00</td>\n",
              "      <td>1,6</td>\n",
              "      <td>1272.0</td>\n",
              "      <td>51.0</td>\n",
              "      <td>6,5</td>\n",
              "      <td>836.0</td>\n",
              "      <td>131.0</td>\n",
              "      <td>1205.0</td>\n",
              "      <td>116.0</td>\n",
              "      <td>1490.0</td>\n",
              "      <td>1110.0</td>\n",
              "      <td>11,2</td>\n",
              "      <td>59,6</td>\n",
              "      <td>0,7888</td>\n",
              "    </tr>\n",
              "  </tbody>\n",
              "</table>\n",
              "</div>"
            ],
            "text/plain": [
              "             DateTime CO(GT)  PT08.S1(CO)  ...     T    RH      AH\n",
              "0 2004-10-03 18:00:00    2,6       1360.0  ...  13,6  48,9  0,7578\n",
              "1 2004-10-03 19:00:00      2       1292.0  ...  13,3  47,7  0,7255\n",
              "2 2004-10-03 20:00:00    2,2       1402.0  ...  11,9  54,0  0,7502\n",
              "3 2004-10-03 21:00:00    2,2       1376.0  ...  11,0  60,0  0,7867\n",
              "4 2004-10-03 22:00:00    1,6       1272.0  ...  11,2  59,6  0,7888\n",
              "\n",
              "[5 rows x 14 columns]"
            ]
          },
          "metadata": {
            "tags": []
          },
          "execution_count": 84
        }
      ]
    },
    {
      "cell_type": "markdown",
      "metadata": {
        "id": "rzvvqIcLBa8K"
      },
      "source": [
        "---"
      ]
    },
    {
      "cell_type": "code",
      "metadata": {
        "id": "Ipl6fbUGBBS0",
        "colab": {
          "base_uri": "https://localhost:8080/"
        },
        "outputId": "56037968-29e5-49cf-f8ab-a97a0e97b64b"
      },
      "source": [
        "y_s = dt_series.dt.year\n",
        "y_s"
      ],
      "execution_count": null,
      "outputs": [
        {
          "output_type": "execute_result",
          "data": {
            "text/plain": [
              "0       2004\n",
              "1       2004\n",
              "2       2004\n",
              "3       2004\n",
              "4       2004\n",
              "        ... \n",
              "9352    2005\n",
              "9353    2005\n",
              "9354    2005\n",
              "9355    2005\n",
              "9356    2005\n",
              "Length: 9357, dtype: int64"
            ]
          },
          "metadata": {
            "tags": []
          },
          "execution_count": 85
        }
      ]
    },
    {
      "cell_type": "code",
      "metadata": {
        "id": "FVRFFeeHBFPu",
        "colab": {
          "base_uri": "https://localhost:8080/"
        },
        "outputId": "a6cab57e-9cbb-426d-94f4-27ca2cf47e02"
      },
      "source": [
        "ms = dt_series.dt.month\n",
        "ms"
      ],
      "execution_count": null,
      "outputs": [
        {
          "output_type": "execute_result",
          "data": {
            "text/plain": [
              "0       10\n",
              "1       10\n",
              "2       10\n",
              "3       10\n",
              "4       10\n",
              "        ..\n",
              "9352     4\n",
              "9353     4\n",
              "9354     4\n",
              "9355     4\n",
              "9356     4\n",
              "Length: 9357, dtype: int64"
            ]
          },
          "metadata": {
            "tags": []
          },
          "execution_count": 86
        }
      ]
    },
    {
      "cell_type": "code",
      "metadata": {
        "id": "hMCr-CchBI0o",
        "colab": {
          "base_uri": "https://localhost:8080/"
        },
        "outputId": "3da95a3c-ee9e-4365-d32b-0436cd6ca99b"
      },
      "source": [
        "ds = dt_series.dt.day\n",
        "ds"
      ],
      "execution_count": null,
      "outputs": [
        {
          "output_type": "execute_result",
          "data": {
            "text/plain": [
              "0       3\n",
              "1       3\n",
              "2       3\n",
              "3       3\n",
              "4       3\n",
              "       ..\n",
              "9352    4\n",
              "9353    4\n",
              "9354    4\n",
              "9355    4\n",
              "9356    4\n",
              "Length: 9357, dtype: int64"
            ]
          },
          "metadata": {
            "tags": []
          },
          "execution_count": 88
        }
      ]
    },
    {
      "cell_type": "code",
      "metadata": {
        "id": "PKHnJC1BBNlW",
        "colab": {
          "base_uri": "https://localhost:8080/"
        },
        "outputId": "93ea7147-292e-4a4c-a962-8b6b82c9c75e"
      },
      "source": [
        "dns = dt_series.dt.day_name()\n",
        "dns"
      ],
      "execution_count": null,
      "outputs": [
        {
          "output_type": "execute_result",
          "data": {
            "text/plain": [
              "0       Sunday\n",
              "1       Sunday\n",
              "2       Sunday\n",
              "3       Sunday\n",
              "4       Sunday\n",
              "         ...  \n",
              "9352    Monday\n",
              "9353    Monday\n",
              "9354    Monday\n",
              "9355    Monday\n",
              "9356    Monday\n",
              "Length: 9357, dtype: object"
            ]
          },
          "metadata": {
            "tags": []
          },
          "execution_count": 89
        }
      ]
    },
    {
      "cell_type": "code",
      "metadata": {
        "id": "9d4hzaSqBPTM",
        "colab": {
          "base_uri": "https://localhost:8080/",
          "height": 424
        },
        "outputId": "c3769a44-6837-4483-ecde-691244b1b05f"
      },
      "source": [
        "df['Year'] = y_s\n",
        "df['Month'] = ms\n",
        "df['Day'] = ds\n",
        "df['Day of the Week'] = dns\n",
        "df.head()"
      ],
      "execution_count": null,
      "outputs": [
        {
          "output_type": "execute_result",
          "data": {
            "text/html": [
              "<div>\n",
              "<style scoped>\n",
              "    .dataframe tbody tr th:only-of-type {\n",
              "        vertical-align: middle;\n",
              "    }\n",
              "\n",
              "    .dataframe tbody tr th {\n",
              "        vertical-align: top;\n",
              "    }\n",
              "\n",
              "    .dataframe thead th {\n",
              "        text-align: right;\n",
              "    }\n",
              "</style>\n",
              "<table border=\"1\" class=\"dataframe\">\n",
              "  <thead>\n",
              "    <tr style=\"text-align: right;\">\n",
              "      <th></th>\n",
              "      <th>DateTime</th>\n",
              "      <th>CO(GT)</th>\n",
              "      <th>PT08.S1(CO)</th>\n",
              "      <th>NMHC(GT)</th>\n",
              "      <th>C6H6(GT)</th>\n",
              "      <th>PT08.S2(NMHC)</th>\n",
              "      <th>NOx(GT)</th>\n",
              "      <th>PT08.S3(NOx)</th>\n",
              "      <th>NO2(GT)</th>\n",
              "      <th>PT08.S4(NO2)</th>\n",
              "      <th>PT08.S5(O3)</th>\n",
              "      <th>T</th>\n",
              "      <th>RH</th>\n",
              "      <th>AH</th>\n",
              "      <th>Year</th>\n",
              "      <th>Month</th>\n",
              "      <th>Day</th>\n",
              "      <th>Day of the Week</th>\n",
              "    </tr>\n",
              "  </thead>\n",
              "  <tbody>\n",
              "    <tr>\n",
              "      <th>0</th>\n",
              "      <td>2004-10-03 18:00:00</td>\n",
              "      <td>2,6</td>\n",
              "      <td>1360.0</td>\n",
              "      <td>150.0</td>\n",
              "      <td>11,9</td>\n",
              "      <td>1046.0</td>\n",
              "      <td>166.0</td>\n",
              "      <td>1056.0</td>\n",
              "      <td>113.0</td>\n",
              "      <td>1692.0</td>\n",
              "      <td>1268.0</td>\n",
              "      <td>13,6</td>\n",
              "      <td>48,9</td>\n",
              "      <td>0,7578</td>\n",
              "      <td>2004</td>\n",
              "      <td>10</td>\n",
              "      <td>3</td>\n",
              "      <td>Sunday</td>\n",
              "    </tr>\n",
              "    <tr>\n",
              "      <th>1</th>\n",
              "      <td>2004-10-03 19:00:00</td>\n",
              "      <td>2</td>\n",
              "      <td>1292.0</td>\n",
              "      <td>112.0</td>\n",
              "      <td>9,4</td>\n",
              "      <td>955.0</td>\n",
              "      <td>103.0</td>\n",
              "      <td>1174.0</td>\n",
              "      <td>92.0</td>\n",
              "      <td>1559.0</td>\n",
              "      <td>972.0</td>\n",
              "      <td>13,3</td>\n",
              "      <td>47,7</td>\n",
              "      <td>0,7255</td>\n",
              "      <td>2004</td>\n",
              "      <td>10</td>\n",
              "      <td>3</td>\n",
              "      <td>Sunday</td>\n",
              "    </tr>\n",
              "    <tr>\n",
              "      <th>2</th>\n",
              "      <td>2004-10-03 20:00:00</td>\n",
              "      <td>2,2</td>\n",
              "      <td>1402.0</td>\n",
              "      <td>88.0</td>\n",
              "      <td>9,0</td>\n",
              "      <td>939.0</td>\n",
              "      <td>131.0</td>\n",
              "      <td>1140.0</td>\n",
              "      <td>114.0</td>\n",
              "      <td>1555.0</td>\n",
              "      <td>1074.0</td>\n",
              "      <td>11,9</td>\n",
              "      <td>54,0</td>\n",
              "      <td>0,7502</td>\n",
              "      <td>2004</td>\n",
              "      <td>10</td>\n",
              "      <td>3</td>\n",
              "      <td>Sunday</td>\n",
              "    </tr>\n",
              "    <tr>\n",
              "      <th>3</th>\n",
              "      <td>2004-10-03 21:00:00</td>\n",
              "      <td>2,2</td>\n",
              "      <td>1376.0</td>\n",
              "      <td>80.0</td>\n",
              "      <td>9,2</td>\n",
              "      <td>948.0</td>\n",
              "      <td>172.0</td>\n",
              "      <td>1092.0</td>\n",
              "      <td>122.0</td>\n",
              "      <td>1584.0</td>\n",
              "      <td>1203.0</td>\n",
              "      <td>11,0</td>\n",
              "      <td>60,0</td>\n",
              "      <td>0,7867</td>\n",
              "      <td>2004</td>\n",
              "      <td>10</td>\n",
              "      <td>3</td>\n",
              "      <td>Sunday</td>\n",
              "    </tr>\n",
              "    <tr>\n",
              "      <th>4</th>\n",
              "      <td>2004-10-03 22:00:00</td>\n",
              "      <td>1,6</td>\n",
              "      <td>1272.0</td>\n",
              "      <td>51.0</td>\n",
              "      <td>6,5</td>\n",
              "      <td>836.0</td>\n",
              "      <td>131.0</td>\n",
              "      <td>1205.0</td>\n",
              "      <td>116.0</td>\n",
              "      <td>1490.0</td>\n",
              "      <td>1110.0</td>\n",
              "      <td>11,2</td>\n",
              "      <td>59,6</td>\n",
              "      <td>0,7888</td>\n",
              "      <td>2004</td>\n",
              "      <td>10</td>\n",
              "      <td>3</td>\n",
              "      <td>Sunday</td>\n",
              "    </tr>\n",
              "  </tbody>\n",
              "</table>\n",
              "</div>"
            ],
            "text/plain": [
              "             DateTime CO(GT)  PT08.S1(CO)  ...  Month Day  Day of the Week\n",
              "0 2004-10-03 18:00:00    2,6       1360.0  ...     10   3           Sunday\n",
              "1 2004-10-03 19:00:00      2       1292.0  ...     10   3           Sunday\n",
              "2 2004-10-03 20:00:00    2,2       1402.0  ...     10   3           Sunday\n",
              "3 2004-10-03 21:00:00    2,2       1376.0  ...     10   3           Sunday\n",
              "4 2004-10-03 22:00:00    1,6       1272.0  ...     10   3           Sunday\n",
              "\n",
              "[5 rows x 18 columns]"
            ]
          },
          "metadata": {
            "tags": []
          },
          "execution_count": 90
        }
      ]
    },
    {
      "cell_type": "code",
      "metadata": {
        "id": "kQ9MNHYQBWAg",
        "colab": {
          "base_uri": "https://localhost:8080/",
          "height": 1000
        },
        "outputId": "fdfd4229-1d80-4dab-be74-6f59a8b0cbf5"
      },
      "source": [
        "df = df.sort_values(by = 'DateTime')\n",
        "df.head(30)"
      ],
      "execution_count": null,
      "outputs": [
        {
          "output_type": "execute_result",
          "data": {
            "text/html": [
              "<div>\n",
              "<style scoped>\n",
              "    .dataframe tbody tr th:only-of-type {\n",
              "        vertical-align: middle;\n",
              "    }\n",
              "\n",
              "    .dataframe tbody tr th {\n",
              "        vertical-align: top;\n",
              "    }\n",
              "\n",
              "    .dataframe thead th {\n",
              "        text-align: right;\n",
              "    }\n",
              "</style>\n",
              "<table border=\"1\" class=\"dataframe\">\n",
              "  <thead>\n",
              "    <tr style=\"text-align: right;\">\n",
              "      <th></th>\n",
              "      <th>DateTime</th>\n",
              "      <th>CO(GT)</th>\n",
              "      <th>PT08.S1(CO)</th>\n",
              "      <th>NMHC(GT)</th>\n",
              "      <th>C6H6(GT)</th>\n",
              "      <th>PT08.S2(NMHC)</th>\n",
              "      <th>NOx(GT)</th>\n",
              "      <th>PT08.S3(NOx)</th>\n",
              "      <th>NO2(GT)</th>\n",
              "      <th>PT08.S4(NO2)</th>\n",
              "      <th>PT08.S5(O3)</th>\n",
              "      <th>T</th>\n",
              "      <th>RH</th>\n",
              "      <th>AH</th>\n",
              "      <th>Year</th>\n",
              "      <th>Month</th>\n",
              "      <th>Day</th>\n",
              "      <th>Day of the Week</th>\n",
              "    </tr>\n",
              "  </thead>\n",
              "  <tbody>\n",
              "    <tr>\n",
              "      <th>510</th>\n",
              "      <td>2004-01-04 00:00:00</td>\n",
              "      <td>1,6</td>\n",
              "      <td>1143.0</td>\n",
              "      <td>106.0</td>\n",
              "      <td>6,3</td>\n",
              "      <td>825.0</td>\n",
              "      <td>96.0</td>\n",
              "      <td>986.0</td>\n",
              "      <td>86.0</td>\n",
              "      <td>1477.0</td>\n",
              "      <td>978.0</td>\n",
              "      <td>12,0</td>\n",
              "      <td>61,6</td>\n",
              "      <td>0,8593</td>\n",
              "      <td>2004</td>\n",
              "      <td>1</td>\n",
              "      <td>4</td>\n",
              "      <td>Sunday</td>\n",
              "    </tr>\n",
              "    <tr>\n",
              "      <th>511</th>\n",
              "      <td>2004-01-04 01:00:00</td>\n",
              "      <td>1,2</td>\n",
              "      <td>1044.0</td>\n",
              "      <td>100.0</td>\n",
              "      <td>5,1</td>\n",
              "      <td>770.0</td>\n",
              "      <td>85.0</td>\n",
              "      <td>1031.0</td>\n",
              "      <td>70.0</td>\n",
              "      <td>1425.0</td>\n",
              "      <td>944.0</td>\n",
              "      <td>11,5</td>\n",
              "      <td>63,9</td>\n",
              "      <td>0,8652</td>\n",
              "      <td>2004</td>\n",
              "      <td>1</td>\n",
              "      <td>4</td>\n",
              "      <td>Sunday</td>\n",
              "    </tr>\n",
              "    <tr>\n",
              "      <th>512</th>\n",
              "      <td>2004-01-04 02:00:00</td>\n",
              "      <td>1,1</td>\n",
              "      <td>1034.0</td>\n",
              "      <td>71.0</td>\n",
              "      <td>4,1</td>\n",
              "      <td>716.0</td>\n",
              "      <td>50.0</td>\n",
              "      <td>1085.0</td>\n",
              "      <td>55.0</td>\n",
              "      <td>1405.0</td>\n",
              "      <td>891.0</td>\n",
              "      <td>10,7</td>\n",
              "      <td>67,2</td>\n",
              "      <td>0,8630</td>\n",
              "      <td>2004</td>\n",
              "      <td>1</td>\n",
              "      <td>4</td>\n",
              "      <td>Sunday</td>\n",
              "    </tr>\n",
              "    <tr>\n",
              "      <th>513</th>\n",
              "      <td>2004-01-04 03:00:00</td>\n",
              "      <td>0,9</td>\n",
              "      <td>956.0</td>\n",
              "      <td>72.0</td>\n",
              "      <td>4,0</td>\n",
              "      <td>713.0</td>\n",
              "      <td>-200.0</td>\n",
              "      <td>1099.0</td>\n",
              "      <td>-200.0</td>\n",
              "      <td>1422.0</td>\n",
              "      <td>849.0</td>\n",
              "      <td>9,0</td>\n",
              "      <td>73,1</td>\n",
              "      <td>0,8394</td>\n",
              "      <td>2004</td>\n",
              "      <td>1</td>\n",
              "      <td>4</td>\n",
              "      <td>Sunday</td>\n",
              "    </tr>\n",
              "    <tr>\n",
              "      <th>514</th>\n",
              "      <td>2004-01-04 04:00:00</td>\n",
              "      <td>0,7</td>\n",
              "      <td>909.0</td>\n",
              "      <td>44.0</td>\n",
              "      <td>2,4</td>\n",
              "      <td>615.0</td>\n",
              "      <td>57.0</td>\n",
              "      <td>1237.0</td>\n",
              "      <td>49.0</td>\n",
              "      <td>1322.0</td>\n",
              "      <td>790.0</td>\n",
              "      <td>10,2</td>\n",
              "      <td>66,6</td>\n",
              "      <td>0,8299</td>\n",
              "      <td>2004</td>\n",
              "      <td>1</td>\n",
              "      <td>4</td>\n",
              "      <td>Sunday</td>\n",
              "    </tr>\n",
              "    <tr>\n",
              "      <th>515</th>\n",
              "      <td>2004-01-04 05:00:00</td>\n",
              "      <td>0,9</td>\n",
              "      <td>996.0</td>\n",
              "      <td>45.0</td>\n",
              "      <td>2,9</td>\n",
              "      <td>648.0</td>\n",
              "      <td>64.0</td>\n",
              "      <td>1176.0</td>\n",
              "      <td>50.0</td>\n",
              "      <td>1340.0</td>\n",
              "      <td>852.0</td>\n",
              "      <td>11,0</td>\n",
              "      <td>63,7</td>\n",
              "      <td>0,8325</td>\n",
              "      <td>2004</td>\n",
              "      <td>1</td>\n",
              "      <td>4</td>\n",
              "      <td>Sunday</td>\n",
              "    </tr>\n",
              "    <tr>\n",
              "      <th>516</th>\n",
              "      <td>2004-01-04 06:00:00</td>\n",
              "      <td>1,7</td>\n",
              "      <td>1154.0</td>\n",
              "      <td>134.0</td>\n",
              "      <td>7,4</td>\n",
              "      <td>876.0</td>\n",
              "      <td>153.0</td>\n",
              "      <td>1002.0</td>\n",
              "      <td>67.0</td>\n",
              "      <td>1561.0</td>\n",
              "      <td>987.0</td>\n",
              "      <td>9,6</td>\n",
              "      <td>68,8</td>\n",
              "      <td>0,8243</td>\n",
              "      <td>2004</td>\n",
              "      <td>1</td>\n",
              "      <td>4</td>\n",
              "      <td>Sunday</td>\n",
              "    </tr>\n",
              "    <tr>\n",
              "      <th>517</th>\n",
              "      <td>2004-01-04 07:00:00</td>\n",
              "      <td>4,2</td>\n",
              "      <td>1510.0</td>\n",
              "      <td>505.0</td>\n",
              "      <td>19,8</td>\n",
              "      <td>1291.0</td>\n",
              "      <td>342.0</td>\n",
              "      <td>675.0</td>\n",
              "      <td>94.0</td>\n",
              "      <td>1949.0</td>\n",
              "      <td>1435.0</td>\n",
              "      <td>9,5</td>\n",
              "      <td>69,6</td>\n",
              "      <td>0,8273</td>\n",
              "      <td>2004</td>\n",
              "      <td>1</td>\n",
              "      <td>4</td>\n",
              "      <td>Sunday</td>\n",
              "    </tr>\n",
              "    <tr>\n",
              "      <th>518</th>\n",
              "      <td>2004-01-04 08:00:00</td>\n",
              "      <td>6,2</td>\n",
              "      <td>1722.0</td>\n",
              "      <td>1042.0</td>\n",
              "      <td>31,9</td>\n",
              "      <td>1595.0</td>\n",
              "      <td>378.0</td>\n",
              "      <td>539.0</td>\n",
              "      <td>119.0</td>\n",
              "      <td>2439.0</td>\n",
              "      <td>1798.0</td>\n",
              "      <td>11,9</td>\n",
              "      <td>60,9</td>\n",
              "      <td>0,8455</td>\n",
              "      <td>2004</td>\n",
              "      <td>1</td>\n",
              "      <td>4</td>\n",
              "      <td>Sunday</td>\n",
              "    </tr>\n",
              "    <tr>\n",
              "      <th>519</th>\n",
              "      <td>2004-01-04 09:00:00</td>\n",
              "      <td>4,6</td>\n",
              "      <td>1512.0</td>\n",
              "      <td>737.0</td>\n",
              "      <td>21,0</td>\n",
              "      <td>1323.0</td>\n",
              "      <td>304.0</td>\n",
              "      <td>631.0</td>\n",
              "      <td>139.0</td>\n",
              "      <td>2001.0</td>\n",
              "      <td>1677.0</td>\n",
              "      <td>16,2</td>\n",
              "      <td>48,6</td>\n",
              "      <td>0,8892</td>\n",
              "      <td>2004</td>\n",
              "      <td>1</td>\n",
              "      <td>4</td>\n",
              "      <td>Sunday</td>\n",
              "    </tr>\n",
              "    <tr>\n",
              "      <th>520</th>\n",
              "      <td>2004-01-04 10:00:00</td>\n",
              "      <td>2,8</td>\n",
              "      <td>1258.0</td>\n",
              "      <td>375.0</td>\n",
              "      <td>11,7</td>\n",
              "      <td>1040.0</td>\n",
              "      <td>192.0</td>\n",
              "      <td>800.0</td>\n",
              "      <td>113.0</td>\n",
              "      <td>1701.0</td>\n",
              "      <td>1282.0</td>\n",
              "      <td>19,2</td>\n",
              "      <td>39,6</td>\n",
              "      <td>0,8693</td>\n",
              "      <td>2004</td>\n",
              "      <td>1</td>\n",
              "      <td>4</td>\n",
              "      <td>Sunday</td>\n",
              "    </tr>\n",
              "    <tr>\n",
              "      <th>521</th>\n",
              "      <td>2004-01-04 11:00:00</td>\n",
              "      <td>1,6</td>\n",
              "      <td>1094.0</td>\n",
              "      <td>124.0</td>\n",
              "      <td>6,8</td>\n",
              "      <td>850.0</td>\n",
              "      <td>130.0</td>\n",
              "      <td>970.0</td>\n",
              "      <td>88.0</td>\n",
              "      <td>1489.0</td>\n",
              "      <td>871.0</td>\n",
              "      <td>19,7</td>\n",
              "      <td>38,4</td>\n",
              "      <td>0,8743</td>\n",
              "      <td>2004</td>\n",
              "      <td>1</td>\n",
              "      <td>4</td>\n",
              "      <td>Sunday</td>\n",
              "    </tr>\n",
              "    <tr>\n",
              "      <th>522</th>\n",
              "      <td>2004-01-04 12:00:00</td>\n",
              "      <td>1,7</td>\n",
              "      <td>1129.0</td>\n",
              "      <td>137.0</td>\n",
              "      <td>7,4</td>\n",
              "      <td>875.0</td>\n",
              "      <td>106.0</td>\n",
              "      <td>974.0</td>\n",
              "      <td>73.0</td>\n",
              "      <td>1524.0</td>\n",
              "      <td>759.0</td>\n",
              "      <td>20,6</td>\n",
              "      <td>36,7</td>\n",
              "      <td>0,8797</td>\n",
              "      <td>2004</td>\n",
              "      <td>1</td>\n",
              "      <td>4</td>\n",
              "      <td>Sunday</td>\n",
              "    </tr>\n",
              "    <tr>\n",
              "      <th>523</th>\n",
              "      <td>2004-01-04 13:00:00</td>\n",
              "      <td>1,7</td>\n",
              "      <td>1125.0</td>\n",
              "      <td>179.0</td>\n",
              "      <td>8,6</td>\n",
              "      <td>924.0</td>\n",
              "      <td>102.0</td>\n",
              "      <td>937.0</td>\n",
              "      <td>73.0</td>\n",
              "      <td>1542.0</td>\n",
              "      <td>790.0</td>\n",
              "      <td>21,8</td>\n",
              "      <td>33,9</td>\n",
              "      <td>0,8771</td>\n",
              "      <td>2004</td>\n",
              "      <td>1</td>\n",
              "      <td>4</td>\n",
              "      <td>Sunday</td>\n",
              "    </tr>\n",
              "    <tr>\n",
              "      <th>524</th>\n",
              "      <td>2004-01-04 14:00:00</td>\n",
              "      <td>1,7</td>\n",
              "      <td>-200.0</td>\n",
              "      <td>222.0</td>\n",
              "      <td>-200,0</td>\n",
              "      <td>-200.0</td>\n",
              "      <td>99.0</td>\n",
              "      <td>-200.0</td>\n",
              "      <td>72.0</td>\n",
              "      <td>-200.0</td>\n",
              "      <td>-200.0</td>\n",
              "      <td>-200</td>\n",
              "      <td>-200</td>\n",
              "      <td>-200</td>\n",
              "      <td>2004</td>\n",
              "      <td>1</td>\n",
              "      <td>4</td>\n",
              "      <td>Sunday</td>\n",
              "    </tr>\n",
              "    <tr>\n",
              "      <th>525</th>\n",
              "      <td>2004-01-04 15:00:00</td>\n",
              "      <td>1,9</td>\n",
              "      <td>-200.0</td>\n",
              "      <td>197.0</td>\n",
              "      <td>-200,0</td>\n",
              "      <td>-200.0</td>\n",
              "      <td>108.0</td>\n",
              "      <td>-200.0</td>\n",
              "      <td>81.0</td>\n",
              "      <td>-200.0</td>\n",
              "      <td>-200.0</td>\n",
              "      <td>-200</td>\n",
              "      <td>-200</td>\n",
              "      <td>-200</td>\n",
              "      <td>2004</td>\n",
              "      <td>1</td>\n",
              "      <td>4</td>\n",
              "      <td>Sunday</td>\n",
              "    </tr>\n",
              "    <tr>\n",
              "      <th>526</th>\n",
              "      <td>2004-01-04 16:00:00</td>\n",
              "      <td>2,3</td>\n",
              "      <td>-200.0</td>\n",
              "      <td>319.0</td>\n",
              "      <td>-200,0</td>\n",
              "      <td>-200.0</td>\n",
              "      <td>131.0</td>\n",
              "      <td>-200.0</td>\n",
              "      <td>93.0</td>\n",
              "      <td>-200.0</td>\n",
              "      <td>-200.0</td>\n",
              "      <td>-200</td>\n",
              "      <td>-200</td>\n",
              "      <td>-200</td>\n",
              "      <td>2004</td>\n",
              "      <td>1</td>\n",
              "      <td>4</td>\n",
              "      <td>Sunday</td>\n",
              "    </tr>\n",
              "    <tr>\n",
              "      <th>527</th>\n",
              "      <td>2004-01-04 17:00:00</td>\n",
              "      <td>3,3</td>\n",
              "      <td>1308.0</td>\n",
              "      <td>388.0</td>\n",
              "      <td>16,4</td>\n",
              "      <td>1193.0</td>\n",
              "      <td>163.0</td>\n",
              "      <td>793.0</td>\n",
              "      <td>106.0</td>\n",
              "      <td>1193.0</td>\n",
              "      <td>1187.0</td>\n",
              "      <td>23,6</td>\n",
              "      <td>27,5</td>\n",
              "      <td>0,7913</td>\n",
              "      <td>2004</td>\n",
              "      <td>1</td>\n",
              "      <td>4</td>\n",
              "      <td>Sunday</td>\n",
              "    </tr>\n",
              "    <tr>\n",
              "      <th>528</th>\n",
              "      <td>2004-01-04 18:00:00</td>\n",
              "      <td>4,2</td>\n",
              "      <td>1529.0</td>\n",
              "      <td>589.0</td>\n",
              "      <td>21,2</td>\n",
              "      <td>1331.0</td>\n",
              "      <td>211.0</td>\n",
              "      <td>700.0</td>\n",
              "      <td>132.0</td>\n",
              "      <td>2028.0</td>\n",
              "      <td>1399.0</td>\n",
              "      <td>22,8</td>\n",
              "      <td>32,1</td>\n",
              "      <td>0,8814</td>\n",
              "      <td>2004</td>\n",
              "      <td>1</td>\n",
              "      <td>4</td>\n",
              "      <td>Sunday</td>\n",
              "    </tr>\n",
              "    <tr>\n",
              "      <th>529</th>\n",
              "      <td>2004-01-04 19:00:00</td>\n",
              "      <td>5,5</td>\n",
              "      <td>1592.0</td>\n",
              "      <td>840.0</td>\n",
              "      <td>25,0</td>\n",
              "      <td>1429.0</td>\n",
              "      <td>267.0</td>\n",
              "      <td>624.0</td>\n",
              "      <td>164.0</td>\n",
              "      <td>2089.0</td>\n",
              "      <td>1644.0</td>\n",
              "      <td>20,8</td>\n",
              "      <td>36,7</td>\n",
              "      <td>0,8878</td>\n",
              "      <td>2004</td>\n",
              "      <td>1</td>\n",
              "      <td>4</td>\n",
              "      <td>Sunday</td>\n",
              "    </tr>\n",
              "    <tr>\n",
              "      <th>530</th>\n",
              "      <td>2004-01-04 20:00:00</td>\n",
              "      <td>4,9</td>\n",
              "      <td>1536.0</td>\n",
              "      <td>655.0</td>\n",
              "      <td>20,2</td>\n",
              "      <td>1302.0</td>\n",
              "      <td>269.0</td>\n",
              "      <td>666.0</td>\n",
              "      <td>161.0</td>\n",
              "      <td>1922.0</td>\n",
              "      <td>1599.0</td>\n",
              "      <td>18,3</td>\n",
              "      <td>40,9</td>\n",
              "      <td>0,8493</td>\n",
              "      <td>2004</td>\n",
              "      <td>1</td>\n",
              "      <td>4</td>\n",
              "      <td>Sunday</td>\n",
              "    </tr>\n",
              "    <tr>\n",
              "      <th>531</th>\n",
              "      <td>2004-01-04 21:00:00</td>\n",
              "      <td>2,5</td>\n",
              "      <td>1192.0</td>\n",
              "      <td>254.0</td>\n",
              "      <td>10,8</td>\n",
              "      <td>1007.0</td>\n",
              "      <td>154.0</td>\n",
              "      <td>827.0</td>\n",
              "      <td>124.0</td>\n",
              "      <td>1604.0</td>\n",
              "      <td>1223.0</td>\n",
              "      <td>16,8</td>\n",
              "      <td>44,0</td>\n",
              "      <td>0,8341</td>\n",
              "      <td>2004</td>\n",
              "      <td>1</td>\n",
              "      <td>4</td>\n",
              "      <td>Sunday</td>\n",
              "    </tr>\n",
              "    <tr>\n",
              "      <th>532</th>\n",
              "      <td>2004-01-04 22:00:00</td>\n",
              "      <td>2</td>\n",
              "      <td>1186.0</td>\n",
              "      <td>188.0</td>\n",
              "      <td>9,9</td>\n",
              "      <td>976.0</td>\n",
              "      <td>127.0</td>\n",
              "      <td>844.0</td>\n",
              "      <td>113.0</td>\n",
              "      <td>1570.0</td>\n",
              "      <td>1200.0</td>\n",
              "      <td>15,8</td>\n",
              "      <td>48,0</td>\n",
              "      <td>0,8569</td>\n",
              "      <td>2004</td>\n",
              "      <td>1</td>\n",
              "      <td>4</td>\n",
              "      <td>Sunday</td>\n",
              "    </tr>\n",
              "    <tr>\n",
              "      <th>533</th>\n",
              "      <td>2004-01-04 23:00:00</td>\n",
              "      <td>2</td>\n",
              "      <td>1203.0</td>\n",
              "      <td>120.0</td>\n",
              "      <td>8,5</td>\n",
              "      <td>920.0</td>\n",
              "      <td>122.0</td>\n",
              "      <td>898.0</td>\n",
              "      <td>103.0</td>\n",
              "      <td>1529.0</td>\n",
              "      <td>1118.0</td>\n",
              "      <td>14,9</td>\n",
              "      <td>52,0</td>\n",
              "      <td>0,8757</td>\n",
              "      <td>2004</td>\n",
              "      <td>1</td>\n",
              "      <td>4</td>\n",
              "      <td>Sunday</td>\n",
              "    </tr>\n",
              "    <tr>\n",
              "      <th>1230</th>\n",
              "      <td>2004-01-05 00:00:00</td>\n",
              "      <td>3,5</td>\n",
              "      <td>1425.0</td>\n",
              "      <td>275.0</td>\n",
              "      <td>15,2</td>\n",
              "      <td>1155.0</td>\n",
              "      <td>185.0</td>\n",
              "      <td>709.0</td>\n",
              "      <td>110.0</td>\n",
              "      <td>1936.0</td>\n",
              "      <td>1789.0</td>\n",
              "      <td>17,8</td>\n",
              "      <td>66,8</td>\n",
              "      <td>1,3460</td>\n",
              "      <td>2004</td>\n",
              "      <td>1</td>\n",
              "      <td>5</td>\n",
              "      <td>Monday</td>\n",
              "    </tr>\n",
              "    <tr>\n",
              "      <th>1231</th>\n",
              "      <td>2004-01-05 01:00:00</td>\n",
              "      <td>2,4</td>\n",
              "      <td>1179.0</td>\n",
              "      <td>-200.0</td>\n",
              "      <td>9,3</td>\n",
              "      <td>951.0</td>\n",
              "      <td>129.0</td>\n",
              "      <td>826.0</td>\n",
              "      <td>84.0</td>\n",
              "      <td>1724.0</td>\n",
              "      <td>1323.0</td>\n",
              "      <td>17,3</td>\n",
              "      <td>68,3</td>\n",
              "      <td>1,3346</td>\n",
              "      <td>2004</td>\n",
              "      <td>1</td>\n",
              "      <td>5</td>\n",
              "      <td>Monday</td>\n",
              "    </tr>\n",
              "    <tr>\n",
              "      <th>1232</th>\n",
              "      <td>2004-01-05 02:00:00</td>\n",
              "      <td>1,6</td>\n",
              "      <td>1047.0</td>\n",
              "      <td>-200.0</td>\n",
              "      <td>6,5</td>\n",
              "      <td>833.0</td>\n",
              "      <td>85.0</td>\n",
              "      <td>939.0</td>\n",
              "      <td>71.0</td>\n",
              "      <td>1647.0</td>\n",
              "      <td>1081.0</td>\n",
              "      <td>16,5</td>\n",
              "      <td>70,2</td>\n",
              "      <td>1,3099</td>\n",
              "      <td>2004</td>\n",
              "      <td>1</td>\n",
              "      <td>5</td>\n",
              "      <td>Monday</td>\n",
              "    </tr>\n",
              "    <tr>\n",
              "      <th>1233</th>\n",
              "      <td>2004-01-05 03:00:00</td>\n",
              "      <td>1,3</td>\n",
              "      <td>1009.0</td>\n",
              "      <td>-200.0</td>\n",
              "      <td>6,3</td>\n",
              "      <td>825.0</td>\n",
              "      <td>-200.0</td>\n",
              "      <td>950.0</td>\n",
              "      <td>-200.0</td>\n",
              "      <td>1629.0</td>\n",
              "      <td>938.0</td>\n",
              "      <td>15,7</td>\n",
              "      <td>73,1</td>\n",
              "      <td>1,2902</td>\n",
              "      <td>2004</td>\n",
              "      <td>1</td>\n",
              "      <td>5</td>\n",
              "      <td>Monday</td>\n",
              "    </tr>\n",
              "    <tr>\n",
              "      <th>1234</th>\n",
              "      <td>2004-01-05 04:00:00</td>\n",
              "      <td>-200</td>\n",
              "      <td>882.0</td>\n",
              "      <td>-200.0</td>\n",
              "      <td>3,5</td>\n",
              "      <td>685.0</td>\n",
              "      <td>35.0</td>\n",
              "      <td>1134.0</td>\n",
              "      <td>42.0</td>\n",
              "      <td>1492.0</td>\n",
              "      <td>673.0</td>\n",
              "      <td>16,2</td>\n",
              "      <td>69,9</td>\n",
              "      <td>1,2756</td>\n",
              "      <td>2004</td>\n",
              "      <td>1</td>\n",
              "      <td>5</td>\n",
              "      <td>Monday</td>\n",
              "    </tr>\n",
              "    <tr>\n",
              "      <th>1235</th>\n",
              "      <td>2004-01-05 05:00:00</td>\n",
              "      <td>0,6</td>\n",
              "      <td>858.0</td>\n",
              "      <td>-200.0</td>\n",
              "      <td>2,6</td>\n",
              "      <td>624.0</td>\n",
              "      <td>24.0</td>\n",
              "      <td>1205.0</td>\n",
              "      <td>32.0</td>\n",
              "      <td>1434.0</td>\n",
              "      <td>543.0</td>\n",
              "      <td>16,7</td>\n",
              "      <td>67,1</td>\n",
              "      <td>1,2619</td>\n",
              "      <td>2004</td>\n",
              "      <td>1</td>\n",
              "      <td>5</td>\n",
              "      <td>Monday</td>\n",
              "    </tr>\n",
              "  </tbody>\n",
              "</table>\n",
              "</div>"
            ],
            "text/plain": [
              "                DateTime CO(GT)  PT08.S1(CO)  ...  Month Day  Day of the Week\n",
              "510  2004-01-04 00:00:00    1,6       1143.0  ...      1   4           Sunday\n",
              "511  2004-01-04 01:00:00    1,2       1044.0  ...      1   4           Sunday\n",
              "512  2004-01-04 02:00:00    1,1       1034.0  ...      1   4           Sunday\n",
              "513  2004-01-04 03:00:00    0,9        956.0  ...      1   4           Sunday\n",
              "514  2004-01-04 04:00:00    0,7        909.0  ...      1   4           Sunday\n",
              "515  2004-01-04 05:00:00    0,9        996.0  ...      1   4           Sunday\n",
              "516  2004-01-04 06:00:00    1,7       1154.0  ...      1   4           Sunday\n",
              "517  2004-01-04 07:00:00    4,2       1510.0  ...      1   4           Sunday\n",
              "518  2004-01-04 08:00:00    6,2       1722.0  ...      1   4           Sunday\n",
              "519  2004-01-04 09:00:00    4,6       1512.0  ...      1   4           Sunday\n",
              "520  2004-01-04 10:00:00    2,8       1258.0  ...      1   4           Sunday\n",
              "521  2004-01-04 11:00:00    1,6       1094.0  ...      1   4           Sunday\n",
              "522  2004-01-04 12:00:00    1,7       1129.0  ...      1   4           Sunday\n",
              "523  2004-01-04 13:00:00    1,7       1125.0  ...      1   4           Sunday\n",
              "524  2004-01-04 14:00:00    1,7       -200.0  ...      1   4           Sunday\n",
              "525  2004-01-04 15:00:00    1,9       -200.0  ...      1   4           Sunday\n",
              "526  2004-01-04 16:00:00    2,3       -200.0  ...      1   4           Sunday\n",
              "527  2004-01-04 17:00:00    3,3       1308.0  ...      1   4           Sunday\n",
              "528  2004-01-04 18:00:00    4,2       1529.0  ...      1   4           Sunday\n",
              "529  2004-01-04 19:00:00    5,5       1592.0  ...      1   4           Sunday\n",
              "530  2004-01-04 20:00:00    4,9       1536.0  ...      1   4           Sunday\n",
              "531  2004-01-04 21:00:00    2,5       1192.0  ...      1   4           Sunday\n",
              "532  2004-01-04 22:00:00      2       1186.0  ...      1   4           Sunday\n",
              "533  2004-01-04 23:00:00      2       1203.0  ...      1   4           Sunday\n",
              "1230 2004-01-05 00:00:00    3,5       1425.0  ...      1   5           Monday\n",
              "1231 2004-01-05 01:00:00    2,4       1179.0  ...      1   5           Monday\n",
              "1232 2004-01-05 02:00:00    1,6       1047.0  ...      1   5           Monday\n",
              "1233 2004-01-05 03:00:00    1,3       1009.0  ...      1   5           Monday\n",
              "1234 2004-01-05 04:00:00   -200        882.0  ...      1   5           Monday\n",
              "1235 2004-01-05 05:00:00    0,6        858.0  ...      1   5           Monday\n",
              "\n",
              "[30 rows x 18 columns]"
            ]
          },
          "metadata": {
            "tags": []
          },
          "execution_count": 92
        }
      ]
    },
    {
      "cell_type": "markdown",
      "metadata": {
        "id": "RmyrvdwgILU9"
      },
      "source": [
        "---"
      ]
    }
  ]
}